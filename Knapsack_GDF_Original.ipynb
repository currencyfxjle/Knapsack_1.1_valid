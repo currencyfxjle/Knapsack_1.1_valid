{
  "nbformat": 4,
  "nbformat_minor": 0,
  "metadata": {
    "colab": {
      "provenance": [],
      "authorship_tag": "ABX9TyM4lbgmBZpe7rDj62m6UNrB",
      "include_colab_link": true
    },
    "kernelspec": {
      "name": "python3",
      "display_name": "Python 3"
    },
    "language_info": {
      "name": "python"
    }
  },
  "cells": [
    {
      "cell_type": "markdown",
      "metadata": {
        "id": "view-in-github",
        "colab_type": "text"
      },
      "source": [
        "<a href=\"https://colab.research.google.com/github/currencyfxjle/Knapsack_1.1_valid/blob/main/Knapsack_GDF_Original.ipynb\" target=\"_parent\"><img src=\"https://colab.research.google.com/assets/colab-badge.svg\" alt=\"Open In Colab\"/></a>"
      ]
    },
    {
      "cell_type": "code",
      "execution_count": 1,
      "metadata": {
        "colab": {
          "base_uri": "https://localhost:8080/"
        },
        "id": "zDk8yeAPEebK",
        "outputId": "efa7ed5a-59f8-4b21-c2cc-b5a8a66e24e5"
      },
      "outputs": [
        {
          "output_type": "stream",
          "name": "stdout",
          "text": [
            "Requirement already satisfied: gspread in /usr/local/lib/python3.10/dist-packages (6.0.2)\n",
            "Requirement already satisfied: google-auth>=1.12.0 in /usr/local/lib/python3.10/dist-packages (from gspread) (2.27.0)\n",
            "Requirement already satisfied: google-auth-oauthlib>=0.4.1 in /usr/local/lib/python3.10/dist-packages (from gspread) (1.2.1)\n",
            "Requirement already satisfied: StrEnum==0.4.15 in /usr/local/lib/python3.10/dist-packages (from gspread) (0.4.15)\n",
            "Requirement already satisfied: cachetools<6.0,>=2.0.0 in /usr/local/lib/python3.10/dist-packages (from google-auth>=1.12.0->gspread) (5.5.0)\n",
            "Requirement already satisfied: pyasn1-modules>=0.2.1 in /usr/local/lib/python3.10/dist-packages (from google-auth>=1.12.0->gspread) (0.4.1)\n",
            "Requirement already satisfied: rsa<5,>=3.1.4 in /usr/local/lib/python3.10/dist-packages (from google-auth>=1.12.0->gspread) (4.9)\n",
            "Requirement already satisfied: requests-oauthlib>=0.7.0 in /usr/local/lib/python3.10/dist-packages (from google-auth-oauthlib>=0.4.1->gspread) (1.3.1)\n",
            "Requirement already satisfied: pyasn1<0.7.0,>=0.4.6 in /usr/local/lib/python3.10/dist-packages (from pyasn1-modules>=0.2.1->google-auth>=1.12.0->gspread) (0.6.1)\n",
            "Requirement already satisfied: oauthlib>=3.0.0 in /usr/local/lib/python3.10/dist-packages (from requests-oauthlib>=0.7.0->google-auth-oauthlib>=0.4.1->gspread) (3.2.2)\n",
            "Requirement already satisfied: requests>=2.0.0 in /usr/local/lib/python3.10/dist-packages (from requests-oauthlib>=0.7.0->google-auth-oauthlib>=0.4.1->gspread) (2.32.3)\n",
            "Requirement already satisfied: charset-normalizer<4,>=2 in /usr/local/lib/python3.10/dist-packages (from requests>=2.0.0->requests-oauthlib>=0.7.0->google-auth-oauthlib>=0.4.1->gspread) (3.4.0)\n",
            "Requirement already satisfied: idna<4,>=2.5 in /usr/local/lib/python3.10/dist-packages (from requests>=2.0.0->requests-oauthlib>=0.7.0->google-auth-oauthlib>=0.4.1->gspread) (3.10)\n",
            "Requirement already satisfied: urllib3<3,>=1.21.1 in /usr/local/lib/python3.10/dist-packages (from requests>=2.0.0->requests-oauthlib>=0.7.0->google-auth-oauthlib>=0.4.1->gspread) (2.2.3)\n",
            "Requirement already satisfied: certifi>=2017.4.17 in /usr/local/lib/python3.10/dist-packages (from requests>=2.0.0->requests-oauthlib>=0.7.0->google-auth-oauthlib>=0.4.1->gspread) (2024.12.14)\n",
            "Requirement already satisfied: gspread-dataframe in /usr/local/lib/python3.10/dist-packages (3.3.1)\n",
            "Requirement already satisfied: gspread>=3.0.0 in /usr/local/lib/python3.10/dist-packages (from gspread-dataframe) (6.0.2)\n",
            "Requirement already satisfied: pandas>=0.24.0 in /usr/local/lib/python3.10/dist-packages (from gspread-dataframe) (2.2.2)\n",
            "Requirement already satisfied: six>=1.12.0 in /usr/local/lib/python3.10/dist-packages (from gspread-dataframe) (1.17.0)\n",
            "Requirement already satisfied: google-auth>=1.12.0 in /usr/local/lib/python3.10/dist-packages (from gspread>=3.0.0->gspread-dataframe) (2.27.0)\n",
            "Requirement already satisfied: google-auth-oauthlib>=0.4.1 in /usr/local/lib/python3.10/dist-packages (from gspread>=3.0.0->gspread-dataframe) (1.2.1)\n",
            "Requirement already satisfied: StrEnum==0.4.15 in /usr/local/lib/python3.10/dist-packages (from gspread>=3.0.0->gspread-dataframe) (0.4.15)\n",
            "Requirement already satisfied: numpy>=1.22.4 in /usr/local/lib/python3.10/dist-packages (from pandas>=0.24.0->gspread-dataframe) (1.26.4)\n",
            "Requirement already satisfied: python-dateutil>=2.8.2 in /usr/local/lib/python3.10/dist-packages (from pandas>=0.24.0->gspread-dataframe) (2.8.2)\n",
            "Requirement already satisfied: pytz>=2020.1 in /usr/local/lib/python3.10/dist-packages (from pandas>=0.24.0->gspread-dataframe) (2024.2)\n",
            "Requirement already satisfied: tzdata>=2022.7 in /usr/local/lib/python3.10/dist-packages (from pandas>=0.24.0->gspread-dataframe) (2024.2)\n",
            "Requirement already satisfied: cachetools<6.0,>=2.0.0 in /usr/local/lib/python3.10/dist-packages (from google-auth>=1.12.0->gspread>=3.0.0->gspread-dataframe) (5.5.0)\n",
            "Requirement already satisfied: pyasn1-modules>=0.2.1 in /usr/local/lib/python3.10/dist-packages (from google-auth>=1.12.0->gspread>=3.0.0->gspread-dataframe) (0.4.1)\n",
            "Requirement already satisfied: rsa<5,>=3.1.4 in /usr/local/lib/python3.10/dist-packages (from google-auth>=1.12.0->gspread>=3.0.0->gspread-dataframe) (4.9)\n",
            "Requirement already satisfied: requests-oauthlib>=0.7.0 in /usr/local/lib/python3.10/dist-packages (from google-auth-oauthlib>=0.4.1->gspread>=3.0.0->gspread-dataframe) (1.3.1)\n",
            "Requirement already satisfied: pyasn1<0.7.0,>=0.4.6 in /usr/local/lib/python3.10/dist-packages (from pyasn1-modules>=0.2.1->google-auth>=1.12.0->gspread>=3.0.0->gspread-dataframe) (0.6.1)\n",
            "Requirement already satisfied: oauthlib>=3.0.0 in /usr/local/lib/python3.10/dist-packages (from requests-oauthlib>=0.7.0->google-auth-oauthlib>=0.4.1->gspread>=3.0.0->gspread-dataframe) (3.2.2)\n",
            "Requirement already satisfied: requests>=2.0.0 in /usr/local/lib/python3.10/dist-packages (from requests-oauthlib>=0.7.0->google-auth-oauthlib>=0.4.1->gspread>=3.0.0->gspread-dataframe) (2.32.3)\n",
            "Requirement already satisfied: charset-normalizer<4,>=2 in /usr/local/lib/python3.10/dist-packages (from requests>=2.0.0->requests-oauthlib>=0.7.0->google-auth-oauthlib>=0.4.1->gspread>=3.0.0->gspread-dataframe) (3.4.0)\n",
            "Requirement already satisfied: idna<4,>=2.5 in /usr/local/lib/python3.10/dist-packages (from requests>=2.0.0->requests-oauthlib>=0.7.0->google-auth-oauthlib>=0.4.1->gspread>=3.0.0->gspread-dataframe) (3.10)\n",
            "Requirement already satisfied: urllib3<3,>=1.21.1 in /usr/local/lib/python3.10/dist-packages (from requests>=2.0.0->requests-oauthlib>=0.7.0->google-auth-oauthlib>=0.4.1->gspread>=3.0.0->gspread-dataframe) (2.2.3)\n",
            "Requirement already satisfied: certifi>=2017.4.17 in /usr/local/lib/python3.10/dist-packages (from requests>=2.0.0->requests-oauthlib>=0.7.0->google-auth-oauthlib>=0.4.1->gspread>=3.0.0->gspread-dataframe) (2024.12.14)\n",
            "Requirement already satisfied: oauth2client in /usr/local/lib/python3.10/dist-packages (4.1.3)\n",
            "Requirement already satisfied: httplib2>=0.9.1 in /usr/local/lib/python3.10/dist-packages (from oauth2client) (0.22.0)\n",
            "Requirement already satisfied: pyasn1>=0.1.7 in /usr/local/lib/python3.10/dist-packages (from oauth2client) (0.6.1)\n",
            "Requirement already satisfied: pyasn1-modules>=0.0.5 in /usr/local/lib/python3.10/dist-packages (from oauth2client) (0.4.1)\n",
            "Requirement already satisfied: rsa>=3.1.4 in /usr/local/lib/python3.10/dist-packages (from oauth2client) (4.9)\n",
            "Requirement already satisfied: six>=1.6.1 in /usr/local/lib/python3.10/dist-packages (from oauth2client) (1.17.0)\n",
            "Requirement already satisfied: pyparsing!=3.0.0,!=3.0.1,!=3.0.2,!=3.0.3,<4,>=2.4.2 in /usr/local/lib/python3.10/dist-packages (from httplib2>=0.9.1->oauth2client) (3.2.0)\n"
          ]
        }
      ],
      "source": [
        "!pip install gspread\n",
        "!pip install gspread-dataframe\n",
        "!pip install --upgrade oauth2client"
      ]
    },
    {
      "cell_type": "code",
      "source": [
        "!pip install xlsxwriter"
      ],
      "metadata": {
        "colab": {
          "base_uri": "https://localhost:8080/"
        },
        "id": "9R7_y80gElZZ",
        "outputId": "abbebb03-8fb4-4e1b-eba8-a3851f93f910"
      },
      "execution_count": 2,
      "outputs": [
        {
          "output_type": "stream",
          "name": "stdout",
          "text": [
            "Collecting xlsxwriter\n",
            "  Downloading XlsxWriter-3.2.0-py3-none-any.whl.metadata (2.6 kB)\n",
            "Downloading XlsxWriter-3.2.0-py3-none-any.whl (159 kB)\n",
            "\u001b[?25l   \u001b[90m━━━━━━━━━━━━━━━━━━━━━━━━━━━━━━━━━━━━━━━━\u001b[0m \u001b[32m0.0/159.9 kB\u001b[0m \u001b[31m?\u001b[0m eta \u001b[36m-:--:--\u001b[0m\r\u001b[2K   \u001b[90m━━━━━━━━━━━━━━━━━━━━━━━━━━━━━━━━━━━━━━━━\u001b[0m \u001b[32m159.9/159.9 kB\u001b[0m \u001b[31m12.4 MB/s\u001b[0m eta \u001b[36m0:00:00\u001b[0m\n",
            "\u001b[?25hInstalling collected packages: xlsxwriter\n",
            "Successfully installed xlsxwriter-3.2.0\n"
          ]
        }
      ]
    },
    {
      "cell_type": "code",
      "source": [
        "from google.colab import drive\n",
        "drive.mount('/content/drive', force_remount=True)"
      ],
      "metadata": {
        "colab": {
          "base_uri": "https://localhost:8080/"
        },
        "id": "7-OLXygd62kG",
        "outputId": "d274b6e6-ee32-41c1-d373-ba8b267bbbd9"
      },
      "execution_count": 7,
      "outputs": [
        {
          "output_type": "stream",
          "name": "stdout",
          "text": [
            "Mounted at /content/drive\n"
          ]
        }
      ]
    },
    {
      "cell_type": "code",
      "source": [
        "import os\n",
        "\n",
        "# List files and folders under My Drive\n",
        "base_path = '/content/drive/My Drive'\n",
        "for root, dirs, files in os.walk(base_path):\n",
        "    print(f\"Directory: {root}\")\n",
        "    for directory in dirs:\n",
        "        print(f\"  Sub-directory: {directory}\")\n",
        "    for file in files:\n",
        "        print(f\"  File: {file}\")"
      ],
      "metadata": {
        "colab": {
          "base_uri": "https://localhost:8080/"
        },
        "id": "6227iCzf6sVv",
        "outputId": "1c455000-a022-4d31-ace7-47923f43f322"
      },
      "execution_count": 8,
      "outputs": [
        {
          "output_type": "stream",
          "name": "stdout",
          "text": [
            "Directory: /content/drive/My Drive\n",
            "  Sub-directory: Risk Modeling\n",
            "  Sub-directory: Colab Notebooks\n",
            "  File: Financial Concepts   Solar Energy Greenday Finance.gdoc\n",
            "  File: 2024 Project Allocation Results (7).gsheet\n",
            "  File: 2024 Project Allocation Results (6).gsheet\n",
            "  File: 2024 Project Allocation Results (5).gsheet\n",
            "  File: 2024 Project Allocation Results (4).gsheet\n",
            "  File: 2024 Project Allocation Results (3).gsheet\n",
            "  File: 2024 Project Allocation Results (2).gsheet\n",
            "  File: 2024 Project Allocation Results (1).gsheet\n",
            "  File: 2024 Project Allocation Results.gsheet\n",
            "  File: Estados de Resultados - Victor Lizarraga.gdoc\n",
            "  File: Ajustes  knapsack Lalo.gsheet\n",
            "Directory: /content/drive/My Drive/Risk Modeling\n",
            "  File: Risk Model - Volatility of financial variables.ipynb\n",
            "Directory: /content/drive/My Drive/Colab Notebooks\n",
            "  Sub-directory: GDF - Knapsack\n",
            "  File: GDF - Risk Model 1.1\n",
            "  File: GDF - Risk Model 1.2\n",
            "  File: Constants.py   Calculator update\n",
            "  File: GDF - Knapsack Problem .ipynb\n",
            "  File: GDF - Knapsack Problem 1.1.ipynb\n",
            "  File: Untitled document.gdoc\n",
            "  File: GDF - Knapsack 1.2\n",
            "  File: GDF - Knapsack 1.3 (final version) Lalo review\n",
            "  File: GDF PPA Python Model\n",
            "  File: Knapsack - GDF - Original\n",
            "Directory: /content/drive/My Drive/Colab Notebooks/GDF - Knapsack\n",
            "  File: 2024 Projects Distribution - Database.gsheet\n",
            "  File: 2025 Project Agenda.gsheet\n"
          ]
        }
      ]
    },
    {
      "cell_type": "code",
      "source": [
        "import os\n",
        "\n",
        "correct_path = '/content/drive/My Drive/Colab Notebooks/GDF - Knapsack/2025 Project Agenda.gsheet'\n",
        "\n",
        "if os.path.exists(correct_path):\n",
        "    print(\"File exists:\", correct_path)\n",
        "else:\n",
        "    print(\"File does NOT exist:\", correct_path)"
      ],
      "metadata": {
        "colab": {
          "base_uri": "https://localhost:8080/"
        },
        "id": "mcqqVlpmEq4p",
        "outputId": "1705959e-21fe-4a4b-b032-9d0f718e4250"
      },
      "execution_count": 9,
      "outputs": [
        {
          "output_type": "stream",
          "name": "stdout",
          "text": [
            "File exists: /content/drive/My Drive/Colab Notebooks/GDF - Knapsack/2025 Project Agenda.gsheet\n"
          ]
        }
      ]
    },
    {
      "cell_type": "markdown",
      "source": [
        "# **Original Knapsack**"
      ],
      "metadata": {
        "id": "bETGrs3B2U3j"
      }
    },
    {
      "cell_type": "code",
      "source": [
        "import gspread\n",
        "from google.colab import auth\n",
        "from google.auth import default\n",
        "import pandas as pd\n",
        "\n",
        "# Authenticate and Access Google Sheet\n",
        "auth.authenticate_user()\n",
        "creds, _ = default()\n",
        "gc = gspread.authorize(creds)\n",
        "\n",
        "# Open Google Sheet\n",
        "title = \"2025 Project Agenda\"\n",
        "sheet = gc.open(title)\n",
        "\n",
        "# Fetch and Clean Supply Data\n",
        "def fetch_supply():\n",
        "    ws = sheet.worksheet(\"Supply\")\n",
        "    data = ws.get_all_values()\n",
        "    supply_df = pd.DataFrame(data[1:], columns=data[0])\n",
        "\n",
        "    # Clean and prepare data\n",
        "    supply_df = supply_df[supply_df['Take into consideration?'].str.lower() == 'y']\n",
        "    supply_df['Est Cash Amount'] = pd.to_numeric(supply_df['Est Cash Amount'].replace({',': ''}, regex=True))\n",
        "    supply_df['project_date'] = pd.to_datetime(supply_df['Poject_date'], errors='coerce')\n",
        "    supply_df = supply_df.dropna()\n",
        "    supply_df = supply_df.sort_values(by=['project_date'], ascending=True)\n",
        "\n",
        "    # Save original Est Cash Amount and add a \"Fully Allocated\" flag\n",
        "    supply_df['Original Est Cash Amount'] = supply_df['Est Cash Amount']\n",
        "    supply_df['Fully Allocated'] = False\n",
        "    return supply_df\n",
        "\n",
        "# Fetch and Clean Demand Data\n",
        "def fetch_demand():\n",
        "    ws = sheet.worksheet(\"Demand\")\n",
        "    data = ws.get_all_values()\n",
        "    demand_df = pd.DataFrame(data[1:], columns=data[0])\n",
        "\n",
        "    # Clean and prepare data\n",
        "    demand_df['approximated_appetite'] = pd.to_numeric(demand_df['approximated_appetite'].replace({',': ''}, regex=True))\n",
        "    demand_df['allocated_amount'] = pd.to_numeric(demand_df['allocated_amount'].replace({',': ''}, regex=True))\n",
        "    demand_df['pending_amount'] = pd.to_numeric(demand_df['pending_amount'].replace({',': ''}, regex=True))\n",
        "    demand_df['effective_date_purchaser'] = pd.to_datetime(demand_df['effective_date_purchaser'], errors='coerce')\n",
        "    demand_df = demand_df.dropna()\n",
        "\n",
        "    # Sort purchasers by Total Appetite descending\n",
        "    demand_df = demand_df.sort_values(by='approximated_appetite', ascending=False)\n",
        "    return demand_df\n",
        "\n",
        "# Match Supply to Demand\n",
        "def match_supply_to_demand(supply_df, demand_df):\n",
        "    total_allocated = 0\n",
        "    allocations = []\n",
        "    unallocated_demand = []\n",
        "\n",
        "    for idx, purchaser in demand_df.iterrows():\n",
        "        remaining_pending_amount = purchaser['pending_amount']\n",
        "        total_appetite = purchaser['approximated_appetite']\n",
        "        allocated_to_purchaser = purchaser['allocated_amount']\n",
        "\n",
        "        for jdx, project in supply_df.iterrows():\n",
        "            project_cost = project['Est Cash Amount']\n",
        "            project_name = project['Proyect Name']\n",
        "            project_id = project['Project ID']\n",
        "            project_date = project['project_date']\n",
        "\n",
        "            # Check constraints: full project cost fits the remaining pending amount and respects deadlines\n",
        "            if (project_cost <= remaining_pending_amount and\n",
        "                total_appetite >= allocated_to_purchaser + project_cost and\n",
        "                not project['Fully Allocated'] and\n",
        "                project_date > purchaser['effective_date_purchaser']):  # Strict constraint\n",
        "\n",
        "                # Allocate project fully\n",
        "                allocations.append((\n",
        "                    purchaser['purchaser_name'],\n",
        "                    project_id,\n",
        "                    project_name,\n",
        "                    project['Original Est Cash Amount'],  # Original Est Cash Amount\n",
        "                    project_cost,  # Allocated Amount\n",
        "                    total_appetite,\n",
        "                    total_appetite - (allocated_to_purchaser + project_cost),  # Remaining Appetite\n",
        "                    allocated_to_purchaser + project_cost,  # Updated Allocated Amount\n",
        "                    remaining_pending_amount - project_cost,  # Updated Pending Amount\n",
        "                    purchaser['effective_date_purchaser'].date(),\n",
        "                    project_date.date(),\n",
        "                    \"Yes\" if project_cost == project['Original Est Cash Amount'] else \"No\"  # Fully Allocated Flag\n",
        "                ))\n",
        "                remaining_pending_amount -= project_cost\n",
        "                allocated_to_purchaser += project_cost\n",
        "                total_allocated += project_cost\n",
        "                supply_df.at[jdx, 'Est Cash Amount'] = 0  # Mark project as fully allocated\n",
        "                supply_df.at[jdx, 'Fully Allocated'] = True\n",
        "\n",
        "                if remaining_pending_amount <= 0:\n",
        "                    break\n",
        "\n",
        "        # Update purchaser's allocated_amount and pending_amount in demand_df\n",
        "        demand_df.at[idx, 'allocated_amount'] = allocated_to_purchaser\n",
        "        demand_df.at[idx, 'pending_amount'] = remaining_pending_amount\n",
        "\n",
        "        # Update unallocated demand\n",
        "        if remaining_pending_amount > 0:\n",
        "            unallocated_demand.append((\n",
        "                purchaser['purchaser_name'],\n",
        "                remaining_pending_amount,  # Remaining Pending Amount\n",
        "                purchaser['effective_date_purchaser'].date()\n",
        "            ))\n",
        "\n",
        "    return total_allocated, allocations, unallocated_demand, supply_df\n",
        "\n",
        "# Save Results to Separate Tabs in Excel\n",
        "def save_to_excel(allocations, summary, unallocated_demand, remaining_supply, filename):\n",
        "    with pd.ExcelWriter(filename, engine=\"xlsxwriter\") as writer:\n",
        "        # Allocations Tab\n",
        "        pd.DataFrame(allocations, columns=[\n",
        "            \"Purchaser\", \"Project ID\", \"Project Name\", \"Original Est Cash Amount\", \"Allocated Amount\",\n",
        "            \"Total Appetite\", \"Remaining Appetite\", \"Allocated Amount Updated\", \"Pending Amount\",\n",
        "            \"Effective Date Purchaser\", \"Project Date\", \"Fully Allocated\"\n",
        "        ]).to_excel(writer, sheet_name=\"Allocations\", index=False)\n",
        "\n",
        "        # Summary Tab\n",
        "        pd.DataFrame(summary).to_excel(writer, sheet_name=\"Summary\", index=False)\n",
        "\n",
        "        # Unallocated Demand Tab\n",
        "        pd.DataFrame(unallocated_demand, columns=[\"Purchaser\", \"Pending Amount\", \"Effective Date Purchaser\"]).to_excel(\n",
        "            writer, sheet_name=\"Unallocated Demand\", index=False\n",
        "        )\n",
        "\n",
        "        # Remaining Supply Tab\n",
        "        remaining_supply.to_excel(writer, sheet_name=\"Remaining Supply\", index=False)\n",
        "\n",
        "    print(f\"Results saved to: {filename}\")\n",
        "\n",
        "# Main Execution\n",
        "supply_df = fetch_supply()\n",
        "demand_df = fetch_demand()\n",
        "total_allocated, allocations, unallocated_demand, supply_df = match_supply_to_demand(supply_df, demand_df)\n",
        "\n",
        "# Calculations for Summary\n",
        "total_pending_amount = demand_df['pending_amount'].sum()\n",
        "total_project_value = supply_df['Original Est Cash Amount'].sum()\n",
        "remaining_supply_value = supply_df['Est Cash Amount'].sum()\n",
        "total_unallocated_value = sum([pending for _, pending, _ in unallocated_demand])\n",
        "\n",
        "# Summary Data\n",
        "summary_data = pd.DataFrame([\n",
        "    {\"Metric\": \"Total Project Value\", \"Value\": total_project_value},\n",
        "    {\"Metric\": \"Remaining Supply Value\", \"Value\": remaining_supply_value},\n",
        "    {\"Metric\": \"Total Allocated\", \"Value\": total_allocated},\n",
        "    {\"Metric\": \"Total Pending Amount\", \"Value\": total_pending_amount},\n",
        "    {\"Metric\": \"Total Unallocated Value\", \"Value\": total_unallocated_value}\n",
        "])\n",
        "\n",
        "# Save Results to Excel with Tabs\n",
        "save_to_excel(\n",
        "    allocations,\n",
        "    summary_data,\n",
        "    unallocated_demand,\n",
        "    supply_df[['Project ID', 'Proyect Name', 'Est Cash Amount', 'Fully Allocated', 'project_date']],\n",
        "    \"allocation_results.xlsx\"\n",
        ")\n",
        "\n",
        "# Results Summary\n",
        "print(f\"Total Project Value (Original): {total_project_value}\")\n",
        "print(f\"Total Pending Amount (After Allocations): {total_pending_amount}\")\n",
        "print(f\"Total Value Allocated: {total_allocated}\")\n",
        "print(f\"Remaining Supply Value: {remaining_supply_value}\")\n",
        "print(f\"Total Unallocated Value: {total_unallocated_value}\")\n"
      ],
      "metadata": {
        "colab": {
          "base_uri": "https://localhost:8080/"
        },
        "id": "ahFFUFg-Lb4_",
        "outputId": "a6e7b25d-fd24-4a22-e17d-7e37874c2cf8"
      },
      "execution_count": 30,
      "outputs": [
        {
          "output_type": "stream",
          "name": "stdout",
          "text": [
            "Results saved to: allocation_results.xlsx\n",
            "Total Project Value (Original): 44025757.75\n",
            "Total Pending Amount (After Allocations): 41782964.79\n",
            "Total Value Allocated: 23301180.31\n",
            "Remaining Supply Value: 20724577.440000005\n",
            "Total Unallocated Value: 41782964.79\n"
          ]
        }
      ]
    },
    {
      "cell_type": "markdown",
      "source": [
        "# **ADDING x1.25**"
      ],
      "metadata": {
        "id": "CAJqBnQbNHII"
      }
    },
    {
      "cell_type": "code",
      "source": [
        "import pandas as pd\n",
        "\n",
        "# Load results from the previously saved Excel file\n",
        "def load_previous_results(file_name):\n",
        "    \"\"\"Load Remaining Supply and Unallocated Demand from Excel\"\"\"\n",
        "    remaining_supply = pd.read_excel(file_name, sheet_name=\"Remaining Supply\")\n",
        "    unallocated_demand = pd.read_excel(file_name, sheet_name=\"Unallocated Demand\")\n",
        "\n",
        "    # Check column names for debugging\n",
        "    print(\"Unallocated Demand Columns:\", unallocated_demand.columns)\n",
        "    print(\"Remaining Supply Columns:\", remaining_supply.columns)\n",
        "\n",
        "    # Normalize column names (handle spaces, case sensitivity, etc.)\n",
        "    unallocated_demand.columns = unallocated_demand.columns.str.strip().str.lower().str.replace(' ', '_')\n",
        "    remaining_supply.columns = remaining_supply.columns.str.strip().str.lower().str.replace(' ', '_')\n",
        "\n",
        "    # Add columns for initial remaining value and increased pending amount by 1.25\n",
        "    unallocated_demand['initial_pending_amount'] = unallocated_demand['pending_amount']\n",
        "    unallocated_demand['pending_amount_1_25'] = unallocated_demand['pending_amount'] * 1.25\n",
        "\n",
        "    return remaining_supply, unallocated_demand\n",
        "\n",
        "# Create new allocations based on remaining supply and unallocated demand\n",
        "def create_new_allocations(remaining_supply, unallocated_demand):\n",
        "    \"\"\"Allocate remaining supply to unallocated demand\"\"\"\n",
        "    new_allocations = []\n",
        "\n",
        "    for idx, purchaser in unallocated_demand.iterrows():\n",
        "        remaining_pending_amount = purchaser['pending_amount_1_25']  # Use 1.25 increased pending amount\n",
        "\n",
        "        for jdx, project in remaining_supply.iterrows():\n",
        "            if project['fully_allocated']:\n",
        "                continue\n",
        "\n",
        "            project_cost = project['est_cash_amount']\n",
        "            project_date = project['project_date']\n",
        "\n",
        "            # Check constraints: Effective Date Purchaser must be before Project Date\n",
        "            if project_cost <= remaining_pending_amount and project_date > purchaser['effective_date_purchaser']:\n",
        "                # Allocate project only if demand can fully cover the supply\n",
        "                if remaining_pending_amount >= project_cost:\n",
        "                    allocated_amount = project_cost\n",
        "                    new_allocations.append({\n",
        "                        \"Purchaser\": purchaser['purchaser'],\n",
        "                        \"Project ID\": project['project_id'],\n",
        "                        \"Project Name\": project['proyect_name'],\n",
        "                        \"Allocated Amount\": allocated_amount,\n",
        "                        \"Initial Pending Amount\": purchaser['initial_pending_amount'],\n",
        "                        \"Pending Amount (1.25x)\": purchaser['pending_amount_1_25'],\n",
        "                        \"Remaining Pending Amount\": remaining_pending_amount - allocated_amount,\n",
        "                        \"Effective Date Purchaser\": purchaser['effective_date_purchaser'],\n",
        "                        \"Project Date\": project['project_date'],\n",
        "                    })\n",
        "                    remaining_pending_amount -= allocated_amount\n",
        "                    remaining_supply.at[jdx, 'est_cash_amount'] -= allocated_amount\n",
        "                    remaining_supply.at[jdx, 'fully_allocated'] = remaining_supply.at[jdx, 'est_cash_amount'] == 0\n",
        "\n",
        "                    if remaining_pending_amount <= 0:\n",
        "                        break\n",
        "\n",
        "    return new_allocations\n",
        "\n",
        "# Save the updated results to a new Excel file\n",
        "def save_results(new_allocations, remaining_supply, unallocated_demand, filename):\n",
        "    \"\"\"Save results to an Excel file\"\"\"\n",
        "    with pd.ExcelWriter(filename, engine=\"xlsxwriter\") as writer:\n",
        "        # Allocations Tab\n",
        "        pd.DataFrame(new_allocations).to_excel(writer, sheet_name=\"Allocations\", index=False)\n",
        "        # Unallocated Demand Tab\n",
        "        unallocated_demand.to_excel(writer, sheet_name=\"Unallocated Demand\", index=False)\n",
        "        # Remaining Supply Tab\n",
        "        remaining_supply.to_excel(writer, sheet_name=\"Remaining Supply\", index=False)\n",
        "\n",
        "    print(f\"Results saved to: {filename}\")\n",
        "\n",
        "# Main execution for creating new allocations\n",
        "remaining_supply, unallocated_demand = load_previous_results(\"allocation_results.xlsx\")\n",
        "\n",
        "new_allocations = create_new_allocations(remaining_supply, unallocated_demand)\n",
        "\n",
        "# Save the updated results to a new Excel file\n",
        "save_results(\n",
        "    new_allocations,\n",
        "    remaining_supply,\n",
        "    unallocated_demand,\n",
        "    \"allocation_results_round2.xlsx\"\n",
        ")\n",
        "\n",
        "# Print summary of allocations\n",
        "print(f\"Total Allocations Created: {len(new_allocations)}\")\n"
      ],
      "metadata": {
        "colab": {
          "base_uri": "https://localhost:8080/"
        },
        "id": "ayY5YwRROQvE",
        "outputId": "13550fd6-3817-4a95-f7b0-29478dd6871c"
      },
      "execution_count": 33,
      "outputs": [
        {
          "output_type": "stream",
          "name": "stdout",
          "text": [
            "Unallocated Demand Columns: Index(['Purchaser', 'Pending Amount', 'Effective Date Purchaser'], dtype='object')\n",
            "Remaining Supply Columns: Index(['Project ID', 'Proyect Name', 'Est Cash Amount', 'Fully Allocated',\n",
            "       'project_date'],\n",
            "      dtype='object')\n",
            "Results saved to: allocation_results_round2.xlsx\n",
            "Total Allocations Created: 9\n"
          ]
        }
      ]
    },
    {
      "cell_type": "code",
      "source": [],
      "metadata": {
        "id": "lmOcFVxhbgpW"
      },
      "execution_count": null,
      "outputs": []
    }
  ]
}